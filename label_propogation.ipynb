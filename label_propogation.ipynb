{
 "cells": [
  {
   "cell_type": "code",
   "execution_count": 154,
   "id": "8a604384",
   "metadata": {},
   "outputs": [],
   "source": [
    "import pandas as pd\n",
    "import json"
   ]
  },
  {
   "cell_type": "code",
   "execution_count": 155,
   "id": "111eb2ce",
   "metadata": {},
   "outputs": [],
   "source": [
    "df_corpus = pd.read_csv(\"corpus.tsv\", delimiter='\\t')"
   ]
  },
  {
   "cell_type": "code",
   "execution_count": 156,
   "id": "4d84dcac",
   "metadata": {},
   "outputs": [],
   "source": [
    "df_features = pd.read_csv(\"node_features.csv\")"
   ]
  },
  {
   "cell_type": "code",
   "execution_count": 157,
   "id": "9a1485c2",
   "metadata": {},
   "outputs": [],
   "source": [
    "def load_json(file_path):\n",
    "    with open(file_path, 'r') as f:\n",
    "        data = json.load(f)\n",
    "\n",
    "    return data"
   ]
  },
  {
   "cell_type": "code",
   "execution_count": 158,
   "id": "f622b8ce",
   "metadata": {},
   "outputs": [],
   "source": [
    "splits_file = \"./data/emnlp2018/splits.json\"\n",
    "splits = load_json(splits_file)"
   ]
  },
  {
   "cell_type": "code",
   "execution_count": 159,
   "id": "206b0582",
   "metadata": {},
   "outputs": [],
   "source": [
    "bias_mapping = {\n",
    "    \"left\": \"left\", 'extreme-left': \"left\",\n",
    "    \"center\": \"center\", 'right-center': \"center\", 'left-center': \"center\",\n",
    "    \"right\": \"right\", 'extreme-right': \"right\"\n",
    "}\n",
    "\n",
    "# fact_mapping = {\"low\": 0, \"mixed\": 1, \"high\": 2}\n",
    "\n",
    "url_mapping = {\n",
    "    \"conservativeoutfitters.com\": \"conservativeoutfitters.com-blogs-news\",\n",
    "    \"who.int\": \"who.int-en\",\n",
    "    \"themaven.net\": \"themaven.net-beingliberal\",\n",
    "    \"al-monitor.com\": \"al-monitor.com-pulse-home.html\",\n",
    "    \"pri.org\": \"pri.org-programs-globalpost\",\n",
    "    \"mlive.com\": \"mlive.com-grand-rapids-#-0\",\n",
    "    \"pacificresearch.org\": \"pacificresearch.org-home\",\n",
    "    \"telesurtv.net\": \"telesurtv.net-english\",\n",
    "    \"elpais.com\": \"elpais.com-elpais-inenglish.html\",\n",
    "    \"inquisitr.com\": \"inquisitr.com-news\",\n",
    "    \"cato.org\": \"cato.org-regulation\",\n",
    "    \"jpost.com\": \"jpost.com-Jerusalem-Report\",\n",
    "    \"newcenturytimes.com\": \"newcenturytimes.com\",\n",
    "    \"oregonlive.com\": \"oregonlive.com-#-0\",\n",
    "    \"rfa.org\": \"rfa.org-english\",\n",
    "    \"people.com\": \"people.com-politics\",\n",
    "    \"russia-insider.com\": \"russia-insider.com-en\",\n",
    "    \"nola.com\": \"nola.com-#-0\",\n",
    "    \"host.madison.com\": \"host.madison.com-wsj\",\n",
    "    \"conservapedia.com\": \"conservapedia.com-Main_Page\",\n",
    "    \"futureinamerica.com\": \"futureinamerica.com-news\",\n",
    "    \"indymedia.org\": \"indymedia.org-or-index.shtml\",\n",
    "    \"newyorker.com\": \"newyorker.com-humor-borowitz-report\",\n",
    "    \"rt.com\": \"rt.com-news\",\n",
    "    \"westernjournalism.com\": \"westernjournalism.com-thepoint\",\n",
    "    \"scripps.ucsd.edu\": \"scripps.ucsd.edu-news\",\n",
    "    \"citizensunited.org\": \"citizensunited.org-index.aspx\",\n",
    "    \"gallup.com\": \"gallup.com-home.aspx\",\n",
    "    \"news.harvard.edu\": \"news.harvard.edu-gazette\",\n",
    "    \"spin.com\": \"spin.com-death-and-taxes\",\n",
    "    \"itv.com\": \"itv.com-news\",\n",
    "    \"theguardian.com\": \"theguardian.com-observer\",\n",
    "    \"concernedwomen.org\": \"concernedwomen.org-blog\",\n",
    "    \"npr.org\": \"npr.org-sections-news\",\n",
    "    \"yahoo.com\": \"yahoo.com-news-?ref=gs\",\n",
    "    \"zcomm.org\": \"zcomm.org-zmag\",\n",
    "    \"therealnews.com\": \"therealnews.com-t2\"\n",
    "}\n",
    "df_features = df_features.replace({\"source_url_normalized\": url_mapping})\n",
    "df_corpus = df_corpus.replace({\"bias\": bias_mapping})\n",
    "#df_corpus = df_corpus.replace({\"fact\": fact_mapping})"
   ]
  },
  {
   "cell_type": "code",
   "execution_count": 160,
   "id": "b09c8d39",
   "metadata": {},
   "outputs": [],
   "source": [
    "output1 = pd.merge(df_features, df_corpus, \n",
    "                   on='source_url_normalized', \n",
    "                   how='right')"
   ]
  },
  {
   "cell_type": "code",
   "execution_count": 161,
   "id": "c9e1f226",
   "metadata": {},
   "outputs": [
    {
     "name": "stderr",
     "output_type": "stream",
     "text": [
      "/tmp/ipykernel_188982/3579042041.py:1: FutureWarning: Dropping of nuisance columns in DataFrame reductions (with 'numeric_only=None') is deprecated; in a future version this will raise TypeError.  Select only valid columns before calling the reduction.\n",
      "  column_means = output1.mean()\n"
     ]
    }
   ],
   "source": [
    "column_means = output1.mean()\n",
    "output1 = output1.fillna(column_means)\n"
   ]
  },
  {
   "cell_type": "code",
   "execution_count": 162,
   "id": "6f7b3762",
   "metadata": {},
   "outputs": [],
   "source": [
    "output1 = output1.drop(['source_url', 'ref', 'alexa_ranks', 'daily_pageviews_per_visitors'], axis = 1)"
   ]
  },
  {
   "cell_type": "code",
   "execution_count": 166,
   "id": "380274f9",
   "metadata": {},
   "outputs": [],
   "source": [
    "from typing import Dict, List\n",
    "from sklearn.metrics import accuracy_score, confusion_matrix, f1_score\n",
    "def calculate_metrics(actual, predicted):\n",
    "    \"\"\"\n",
    "    Calculate performance metrics given the actual and predicted labels.\n",
    "    Returns the macro-F1 score, the accuracy, the flip error rate and the\n",
    "    mean absolute error (MAE).\n",
    "    The flip error rate is the percentage where an instance was predicted\n",
    "    as the opposite label (i.e., left-vs-right or high-vs-low).\n",
    "    \"\"\"\n",
    "    # calculate macro-f1\n",
    "    f1 = f1_score(actual, predicted, average='macro') * 100\n",
    "\n",
    "    # calculate accuracy\n",
    "    accuracy = accuracy_score(actual, predicted) * 100\n",
    "    return f1, accuracy\n",
    "\n",
    "def train_model(splits: Dict[str, Dict[str, List[str]]],\n",
    "                features: Dict[str, Dict[str, List[float]]], task):\n",
    "    \n",
    "    \n",
    "    all_urls = []\n",
    "    actual = []\n",
    "    predicted = []\n",
    "    \n",
    "    if task==\"fact\":\n",
    "        other_task = \"bias\"\n",
    "    \n",
    "    if task==\"bias\":\n",
    "        other_task = \"fact\"\n",
    "    \n",
    "    i = 0\n",
    "    num_folds = len(splits)\n",
    "    for f in range(num_folds):\n",
    "        # get the training and testing media for the current fold\n",
    "        urls = {\n",
    "            \"train\": splits[str(f)][\"train\"],\n",
    "            \"test\": splits[str(f)][\"test\"],\n",
    "        }\n",
    "\n",
    "        all_urls.extend(splits[str(f)][\"test\"])\n",
    "\n",
    "        \n",
    "        # concatenate the different features/labels for the training sources\n",
    "        X_train = features[features[\"source_url_normalized\"].isin(urls[\"train\"])]\n",
    "        X_train = X_train.drop(['source_url_normalized', task, other_task], axis = 1)\n",
    "        #print(X_train.head())\n",
    "        y_train = np.asarray(features[features[\"source_url_normalized\"].isin(urls[\"train\"])][task])\n",
    "        #print(y_train)\n",
    "        \n",
    "        X_test = features[features[\"source_url_normalized\"].isin(urls[\"test\"])]\n",
    "        X_test = X_test.drop(['source_url_normalized', task, other_task], axis = 1)\n",
    "        y_test = np.asarray(features[features[\"source_url_normalized\"].isin(urls[\"test\"])][task])\n",
    "        \n",
    "        clf = LabelPropagation()\n",
    "\n",
    "        # train the classifier using the training data\n",
    "        clf.fit(X_train, y_train)\n",
    "        print(clf.score(X_test, y_test))\n",
    "\n",
    "        # generate predictions\n",
    "        pred = clf.predict(X_test)\n",
    "\n",
    "        # generate probabilites\n",
    "        prob = clf.predict_proba(X_test)\n",
    "        #print(y_test)\n",
    "        # cumulate the actual and predicted labels, and the probabilities over the different folds.  then, move the index\n",
    "        actual[i: i + y_test.shape[0]] = y_test\n",
    "        predicted[i: i + y_test.shape[0]] = pred\n",
    "        i += y_test.shape[0]\n",
    "        \n",
    "\n",
    "    # calculate the performance metrics on the whole set of predictions (5 folds all together)\n",
    "    f1, accuracy = calculate_metrics(actual, predicted)\n",
    "    print(f1, accuracy)\n",
    "    "
   ]
  },
  {
   "cell_type": "code",
   "execution_count": 167,
   "id": "26f4c61d",
   "metadata": {},
   "outputs": [
    {
     "name": "stdout",
     "output_type": "stream",
     "text": [
      "0.5767441860465117\n",
      "0.5186915887850467\n",
      "0.5539906103286385\n",
      "0.5660377358490566\n",
      "0.6084905660377359\n",
      "41.94512124376378 56.47279549718574\n"
     ]
    },
    {
     "name": "stderr",
     "output_type": "stream",
     "text": [
      "/home/utsav/.pyenv/versions/nmp/lib/python3.8/site-packages/sklearn/semi_supervised/_label_propagation.py:222: RuntimeWarning: invalid value encountered in true_divide\n",
      "  probabilities /= normalizer\n",
      "/home/utsav/.pyenv/versions/nmp/lib/python3.8/site-packages/sklearn/semi_supervised/_label_propagation.py:222: RuntimeWarning: invalid value encountered in true_divide\n",
      "  probabilities /= normalizer\n",
      "/home/utsav/.pyenv/versions/nmp/lib/python3.8/site-packages/sklearn/semi_supervised/_label_propagation.py:222: RuntimeWarning: invalid value encountered in true_divide\n",
      "  probabilities /= normalizer\n",
      "/home/utsav/.pyenv/versions/nmp/lib/python3.8/site-packages/sklearn/semi_supervised/_label_propagation.py:222: RuntimeWarning: invalid value encountered in true_divide\n",
      "  probabilities /= normalizer\n",
      "/home/utsav/.pyenv/versions/nmp/lib/python3.8/site-packages/sklearn/semi_supervised/_label_propagation.py:222: RuntimeWarning: invalid value encountered in true_divide\n",
      "  probabilities /= normalizer\n",
      "/home/utsav/.pyenv/versions/nmp/lib/python3.8/site-packages/sklearn/semi_supervised/_label_propagation.py:222: RuntimeWarning: invalid value encountered in true_divide\n",
      "  probabilities /= normalizer\n",
      "/home/utsav/.pyenv/versions/nmp/lib/python3.8/site-packages/sklearn/semi_supervised/_label_propagation.py:222: RuntimeWarning: invalid value encountered in true_divide\n",
      "  probabilities /= normalizer\n",
      "/home/utsav/.pyenv/versions/nmp/lib/python3.8/site-packages/sklearn/semi_supervised/_label_propagation.py:222: RuntimeWarning: invalid value encountered in true_divide\n",
      "  probabilities /= normalizer\n",
      "/home/utsav/.pyenv/versions/nmp/lib/python3.8/site-packages/sklearn/semi_supervised/_label_propagation.py:222: RuntimeWarning: invalid value encountered in true_divide\n",
      "  probabilities /= normalizer\n",
      "/home/utsav/.pyenv/versions/nmp/lib/python3.8/site-packages/sklearn/semi_supervised/_label_propagation.py:222: RuntimeWarning: invalid value encountered in true_divide\n",
      "  probabilities /= normalizer\n",
      "/home/utsav/.pyenv/versions/nmp/lib/python3.8/site-packages/sklearn/semi_supervised/_label_propagation.py:222: RuntimeWarning: invalid value encountered in true_divide\n",
      "  probabilities /= normalizer\n",
      "/home/utsav/.pyenv/versions/nmp/lib/python3.8/site-packages/sklearn/semi_supervised/_label_propagation.py:222: RuntimeWarning: invalid value encountered in true_divide\n",
      "  probabilities /= normalizer\n",
      "/home/utsav/.pyenv/versions/nmp/lib/python3.8/site-packages/sklearn/semi_supervised/_label_propagation.py:222: RuntimeWarning: invalid value encountered in true_divide\n",
      "  probabilities /= normalizer\n",
      "/home/utsav/.pyenv/versions/nmp/lib/python3.8/site-packages/sklearn/semi_supervised/_label_propagation.py:222: RuntimeWarning: invalid value encountered in true_divide\n",
      "  probabilities /= normalizer\n",
      "/home/utsav/.pyenv/versions/nmp/lib/python3.8/site-packages/sklearn/semi_supervised/_label_propagation.py:222: RuntimeWarning: invalid value encountered in true_divide\n",
      "  probabilities /= normalizer\n"
     ]
    }
   ],
   "source": [
    "train_model(splits, output1, \"fact\")"
   ]
  },
  {
   "cell_type": "code",
   "execution_count": 91,
   "id": "4ee76e04",
   "metadata": {},
   "outputs": [],
   "source": []
  },
  {
   "cell_type": "code",
   "execution_count": 57,
   "id": "5a4a8e51",
   "metadata": {},
   "outputs": [
    {
     "data": {
      "text/plain": [
       "array(['high', 'high', 'low', ..., 'high', 'high', 'mixed'], dtype=object)"
      ]
     },
     "execution_count": 57,
     "metadata": {},
     "output_type": "execute_result"
    }
   ],
   "source": [
    "labels"
   ]
  },
  {
   "cell_type": "code",
   "execution_count": 58,
   "id": "0eeb6e8e",
   "metadata": {},
   "outputs": [],
   "source": [
    "features = output1.drop(['fact', 'source_url_normalized'], axis=1)"
   ]
  },
  {
   "cell_type": "code",
   "execution_count": 59,
   "id": "32cc1e7b",
   "metadata": {},
   "outputs": [],
   "source": [
    "from sklearn.model_selection import train_test_split\n",
    "\n",
    "features_train, features_test, labels_train, labels_test = train_test_split(\n",
    "    features, labels, \n",
    "    test_size=0.20)"
   ]
  },
  {
   "cell_type": "code",
   "execution_count": 60,
   "id": "133f0734",
   "metadata": {},
   "outputs": [
    {
     "data": {
      "text/plain": [
       "LabelPropagation()"
      ]
     },
     "execution_count": 60,
     "metadata": {},
     "output_type": "execute_result"
    }
   ],
   "source": [
    "from sklearn.semi_supervised import LabelPropagation\n",
    "\n",
    "# initialize\n",
    "clf = LabelPropagation()\n",
    "\n",
    "# train the classifier using the training data\n",
    "clf.fit(features_train, labels_train)"
   ]
  },
  {
   "cell_type": "code",
   "execution_count": 61,
   "id": "13b4c9bc",
   "metadata": {},
   "outputs": [
    {
     "name": "stdout",
     "output_type": "stream",
     "text": [
      "Test Accuracy: 0.602803738317757\n"
     ]
    },
    {
     "name": "stderr",
     "output_type": "stream",
     "text": [
      "/home/utsav/.pyenv/versions/nmp/lib/python3.8/site-packages/sklearn/semi_supervised/_label_propagation.py:222: RuntimeWarning: invalid value encountered in true_divide\n",
      "  probabilities /= normalizer\n"
     ]
    }
   ],
   "source": [
    "# compute accuracy using test data\n",
    "acc_test = clf.score(features_test, labels_test)\n",
    "\n",
    "print (\"Test Accuracy:\", acc_test)\n",
    "# Test Accuracy: 0.98"
   ]
  }
 ],
 "metadata": {
  "kernelspec": {
   "display_name": "Python 3 (ipykernel)",
   "language": "python",
   "name": "python3"
  },
  "language_info": {
   "codemirror_mode": {
    "name": "ipython",
    "version": 3
   },
   "file_extension": ".py",
   "mimetype": "text/x-python",
   "name": "python",
   "nbconvert_exporter": "python",
   "pygments_lexer": "ipython3",
   "version": "3.8.10"
  }
 },
 "nbformat": 4,
 "nbformat_minor": 5
}
